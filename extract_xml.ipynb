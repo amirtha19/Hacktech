{
  "cells": [
    {
      "cell_type": "code",
      "execution_count": null,
      "metadata": {
        "id": "2ORsONzZklYV"
      },
      "outputs": [],
      "source": [
        "import pandas as pd\n",
        "import numpy as np\n",
        "import matplotlib.pyplot as plt\n",
        "import os\n",
        "import shutil\n",
        "import xml.etree.ElementTree as ET\n",
        "import matplotlib.pyplot as plt\n",
        "import matplotlib.patches as patches\n",
        "import cv2\n",
        "from google.colab.patches import cv2_imshow"
      ]
    },
    {
      "cell_type": "code",
      "execution_count": null,
      "metadata": {
        "id": "tQzsk0BwkngJ"
      },
      "outputs": [],
      "source": [
        "from IPython import display\n",
        "display.clear_output()"
      ]
    },
    {
      "cell_type": "code",
      "execution_count": null,
      "metadata": {
        "id": "PlHg7kFLku1Q"
      },
      "outputs": [],
      "source": [
        "classes={'car': 0, 'van': 1, 'others': 2, 'bus': 3}\n",
        "classs_id={b:a for (a,b) in classes.items()}"
      ]
    },
    {
      "cell_type": "code",
      "execution_count": null,
      "metadata": {
        "id": "LWGFfMwRk0Xv"
      },
      "outputs": [],
      "source": [
        "!mkdir -p dataset/train/images\n",
        "!mkdir -p dataset/train/labels"
      ]
    },
    {
      "cell_type": "code",
      "execution_count": null,
      "metadata": {
        "id": "_VccQ74NlsnE"
      },
      "outputs": [],
      "source": [
        "!mkdir -p dataset/valid/images\n",
        "!mkdir -p dataset/valid/labels"
      ]
    },
    {
      "cell_type": "code",
      "execution_count": null,
      "metadata": {
        "id": "0pgIYdWYmQzn"
      },
      "outputs": [],
      "source": [
        "# Mount Google Drive\n",
        "from google.colab import drive\n",
        "drive.mount('/content/gdrive')"
      ]
    },
    {
      "cell_type": "markdown",
      "source": [
        "Make sure to upload this in your Hacktech folder in gdrive: https://drive.google.com/drive/u/1/folders/1X-gCnYc2KJ_txs4xfAnXln13xi_CZYwM"
      ],
      "metadata": {
        "id": "jHmqoNNKwiwC"
      }
    },
    {
      "cell_type": "code",
      "execution_count": null,
      "metadata": {
        "id": "jNqEumr40sHi"
      },
      "outputs": [],
      "source": [
        "def chfname(namee):\n",
        "    num=int(namee[13:])\n",
        "    num=num+1\n",
        "    return str(namee[:13])+f\"{num:05d}\""
      ]
    },
    {
      "cell_type": "code",
      "execution_count": null,
      "metadata": {
        "id": "FfrYE4MC6Jfe"
      },
      "outputs": [],
      "source": [
        "from PIL import Image\n",
        "# Open the image\n",
        "image_path = \"/content/gdrive/MyDrive/Hacktech/DETRAC-train-data/Insight-MVT_Annotation_Train/MVI_20011/img00001.jpg\"\n",
        "img = Image.open(image_path)\n",
        "# Get the width and height\n",
        "img_width, img_height = img.size\n",
        "print(f\"Image width: {img_width}, Image height: {img_height}\")"
      ]
    },
    {
      "cell_type": "code",
      "execution_count": null,
      "metadata": {
        "id": "AhBKBxTP5yt4"
      },
      "outputs": [],
      "source": [
        "def process_xml_file(xml_file, output_directory):\n",
        "    if os.path.exists(xml_file):\n",
        "        # Parse the target XML file\n",
        "        tree = ET.parse(xml_file)\n",
        "        root = tree.getroot()\n",
        "        sequence_name = root.attrib['name']\n",
        "        # Create a target directory for TXT files\n",
        "        try:\n",
        "            # Try creating the directory; ignore if it already exists\n",
        "            os.makedirs(output_directory)\n",
        "        except:\n",
        "            pass\n",
        "        # Change the current working directory to the target directory\n",
        "        os.chdir(output_directory)\n",
        "        # Initialize filename\n",
        "        filename = str(sequence_name) + \"_\" + 'img00001'\n",
        "        for frame in root.findall('frame'):\n",
        "            # Open a text file for writing\n",
        "            with open(f\"{filename}.txt\", \"w\") as f:\n",
        "                # Iterate through targets in the frame\n",
        "                for target in frame.findall('target_list/target'):\n",
        "                    clasas = classes[target.find('attribute').attrib['vehicle_type']]\n",
        "                    box = target.find('box')\n",
        "                    left = float(box.attrib['left'])\n",
        "                    top = float(box.attrib['top'])\n",
        "                    width = float(box.attrib['width'])\n",
        "                    height = float(box.attrib['height'])\n",
        "                    xcen = (left + width / 2) / img_width\n",
        "                    ycen = (top + height / 2) / img_height\n",
        "                    norm_width = width / img_width\n",
        "                    norm_height = height / img_height\n",
        "                    # Extract speed attribute\n",
        "                    speed = float(target.find('attribute').attrib['speed'])\n",
        "                    # Write normalized target information to the file\n",
        "                    content = f\"{clasas} {xcen} {ycen} {norm_width} {norm_height} {speed}\\n\"\n",
        "                    f.write(content)\n",
        "            # Update filename for the next iteration\n",
        "            filename = chfname(filename)\n",
        "        # Change the current working directory back to the original directory\n",
        "        os.chdir(origin)\n",
        "    else:\n",
        "        print(f\"The specified XML file '{xml_file}' does not exist.\")\n"
      ]
    },
    {
      "cell_type": "code",
      "execution_count": null,
      "metadata": {
        "id": "QnMtzZaB6VGn"
      },
      "outputs": [],
      "source": [
        "# Define common variables\n",
        "origin = os.getcwd()"
      ]
    },
    {
      "cell_type": "code",
      "execution_count": null,
      "metadata": {
        "id": "Mr-j9g14tev4"
      },
      "outputs": [],
      "source": [
        "def copy_and_rename_file(source_path, destination_path, new_filename):\n",
        "    try:\n",
        "        # Copy the file\n",
        "        shutil.copy(source_path, destination_path)\n",
        "\n",
        "        # Create the new file path with the desired filename\n",
        "        new_file_path = f\"{destination_path}/{new_filename}\"\n",
        "\n",
        "        # Rename the copied file\n",
        "        shutil.move(f\"{destination_path}/{source_path.split('/')[-1]}\", new_file_path)\n",
        "\n",
        "    except Exception as e:\n",
        "        print(f\"An error occurred: {e}\")"
      ]
    },
    {
      "cell_type": "code",
      "execution_count": null,
      "metadata": {
        "id": "3JWCzlQMlCmT"
      },
      "outputs": [],
      "source": [
        "xml_file_source=\"/content/gdrive/MyDrive/Hacktech/DETRAC-Train-Annotations-XML/DETRAC-Train-Annotations-XML\"\n",
        "train_image_source='/content/gdrive/MyDrive/Hacktech/DETRAC-train-data/Insight-MVT_Annotation_Train'\n",
        "def preprocess(lis,label_path,image_path):\n",
        "  for i in lis:\n",
        "    process_xml_file(os.path.join(xml_file_source,str(i)+'.xml'),label_path)\n",
        "    for j in os.listdir(os.path.join(train_image_source,i)):\n",
        "       copy_and_rename_file(os.path.join(train_image_source,i,j),image_path,str(i)+\"_\"+str(j))"
      ]
    },
    {
      "cell_type": "code",
      "source": [
        "import subprocess\n",
        "\n",
        "# Run the ls command and capture the output\n",
        "output = subprocess.check_output([\"ls\", \"/content/gdrive/MyDrive/Hacktech/DETRAC-train-data/Insight-MVT_Annotation_Train\"]).decode(\"utf-8\")\n",
        "\n",
        "# Split the output into lines and store them in a list\n",
        "file_list = output.splitlines()\n",
        "\n",
        "# Now you have the list of files\n",
        "print(file_list)\n"
      ],
      "metadata": {
        "id": "VZWIwFZK1HfI"
      },
      "execution_count": null,
      "outputs": []
    },
    {
      "cell_type": "code",
      "execution_count": null,
      "metadata": {
        "id": "qE1J7_q0yUR9"
      },
      "outputs": [],
      "source": [
        "train = file_list[30:]\n",
        "E = \"/content/dataset/train/images\"\n",
        "lab =\"/content/dataset/train/labels\""
      ]
    },
    {
      "cell_type": "code",
      "execution_count": null,
      "metadata": {
        "id": "99O2wqr6y0tE"
      },
      "outputs": [],
      "source": [
        "preprocess(train,lab,E)"
      ]
    },
    {
      "cell_type": "code",
      "source": [
        "# train = [\"MVI_20011\",\"MVI_20012\",\"MVI_63562\",\"MVI_63561\",\"MVI_63561\",\"MVI_63554\",\"MVI_41073\",\"MVI_41063\",\"MVI_39861\",\"MVI_39781\",\"MVI_40192\",\"MVI_40191\",\"MVI_39811\",\"MVI_20034\",\"MVI_63521\",\"MVI_63554\",\"MVI_63562\",\"MVI_41063\"]\n",
        "# valid = [\"MVI_20052\",\"MVI_20033\",\"MVI_20034\",\"MVI_20063\",\"MVI_39781\",\"MVI_40751\",\"MVI_63521\",\"MVI_40211\",\"MVI_20035\",\"MVI_41073\"]\n",
        "# E = \"/content/Hacktech/Speed_estimation/ultralytics/yolo/v8/detect/dataset/train/images\"\n",
        "# lab =\"/content/Hacktech/Speed_estimation/ultralytics/yolo/v8/detect/dataset/train/labels\"\n",
        "# vE = \"/content/Hacktech/Speed_estimation/ultralytics/yolo/v8/detect/dataset/valid/images\"\n",
        "# vlab =\"/content/Hacktech/Speed_estimation/ultralytics/yolo/v8/detect/dataset/valid/labels\""
      ],
      "metadata": {
        "id": "j_egYyX1ykV9"
      },
      "execution_count": null,
      "outputs": []
    },
    {
      "cell_type": "code",
      "source": [
        "import os\n",
        "\n",
        "# Define the path to the directory you want to create\n",
        "directory = '/content/data'\n",
        "\n",
        "# Create the directory if it doesn't exist\n",
        "if not os.path.exists(directory):\n",
        "    os.makedirs(directory)\n"
      ],
      "metadata": {
        "id": "Ju6UnUbmHdPQ"
      },
      "execution_count": null,
      "outputs": []
    },
    {
      "cell_type": "code",
      "source": [
        "import os\n",
        "\n",
        "def combine_files_by_prefix(directory):\n",
        "    # Dictionary to hold content of files with same prefix\n",
        "    files_dict = {}\n",
        "\n",
        "    # Iterate over files in the directory\n",
        "    for filename in os.listdir(directory):\n",
        "        if filename.endswith('.txt'):\n",
        "            prefix = filename[:10]  # Extract first 10 characters as prefix\n",
        "            filepath = os.path.join(directory, filename)\n",
        "\n",
        "            # Add file content to dictionary, creating an entry if it doesn't exist\n",
        "            if prefix not in files_dict:\n",
        "                files_dict[prefix] = ''\n",
        "            with open(filepath, 'r') as file:\n",
        "                files_dict[prefix] += file.read() + '\\n'\n",
        "\n",
        "    # Write combined content to files with corresponding prefix\n",
        "    for prefix, content in files_dict.items():\n",
        "        combined_filename = os.path.join('/content/data', f\"{prefix}.txt\")\n",
        "        with open(combined_filename, 'w') as combined_file:\n",
        "            combined_file.write(content)\n",
        "\n",
        "# Example usage:\n",
        "directory = '/content/dataset/train/labels'\n",
        "combine_files_by_prefix(directory)\n"
      ],
      "metadata": {
        "id": "Lab7LQu_0_Cb"
      },
      "execution_count": null,
      "outputs": []
    },
    {
      "cell_type": "code",
      "source": [
        "import shutil\n",
        "\n",
        "# Define the path to the folder you want to download\n",
        "folder_path = '/content/data'\n",
        "\n",
        "# Define the path for the zip file\n",
        "zip_file_path = '/content/data.zip'\n",
        "\n",
        "# Compress the folder into a zip file\n",
        "shutil.make_archive('/content/data', 'zip', folder_path)\n",
        "\n",
        "# Download the zip file\n",
        "from google.colab import files\n",
        "files.download(zip_file_path)\n"
      ],
      "metadata": {
        "id": "8d6j8vOrTwgJ"
      },
      "execution_count": null,
      "outputs": []
    },
    {
      "cell_type": "code",
      "source": [],
      "metadata": {
        "id": "2jr6Sc8sdcDu"
      },
      "execution_count": null,
      "outputs": []
    }
  ],
  "metadata": {
    "accelerator": "GPU",
    "colab": {
      "provenance": []
    },
    "kernelspec": {
      "display_name": "Python 3",
      "name": "python3"
    },
    "language_info": {
      "name": "python"
    }
  },
  "nbformat": 4,
  "nbformat_minor": 0
}